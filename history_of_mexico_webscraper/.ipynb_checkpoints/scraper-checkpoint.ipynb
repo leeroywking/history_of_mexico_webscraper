{
 "cells": [
  {
   "cell_type": "code",
   "execution_count": 2,
   "metadata": {},
   "outputs": [],
   "source": [
    "from bs4 import BeautifulSoup\n",
    "import requests"
   ]
  },
  {
   "cell_type": "code",
   "execution_count": null,
   "metadata": {},
   "outputs": [],
   "source": []
  },
  {
   "cell_type": "code",
   "execution_count": 3,
   "metadata": {},
   "outputs": [],
   "source": [
    "wiki_mexico_history = requests.get(\"https://en.wikipedia.org/wiki/History_of_Mexico\")\n",
    "soup = BeautifulSoup(wiki_mexico_history.content)"
   ]
  },
  {
   "cell_type": "markdown",
   "metadata": {},
   "source": [
    "## Your web scraper should report the number of citations needed."
   ]
  },
  {
   "cell_type": "code",
   "execution_count": 4,
   "metadata": {},
   "outputs": [
    {
     "name": "stdout",
     "output_type": "stream",
     "text": [
      "5\n"
     ]
    }
   ],
   "source": [
    "references = soup.findAll(\"a\", {\"href\": \"/wiki/Wikipedia:Citation_needed\"})\n",
    "print(len(references))"
   ]
  },
  {
   "cell_type": "markdown",
   "metadata": {},
   "source": [
    "## Your web scraper should identify those cases AND include the relevant passage"
   ]
  },
  {
   "cell_type": "code",
   "execution_count": 9,
   "metadata": {},
   "outputs": [
    {
     "name": "stdout",
     "output_type": "stream",
     "text": [
      "198\n",
      "4\n",
      "['The Mexica people arrived in the Valley of Mexico in 1248 AD. They had migrated from the deserts north of the Rio Grande', ' over a period traditionally said to have been 100 years. They may have thought of themselves as the heirs to the prestigious civilizations that had preceded them.']\n"
     ]
    }
   ],
   "source": [
    "paragraphs = soup.findAll(\"p\")\n",
    "filtered_paragraphs = []\n",
    "for paragraph in paragraphs:\n",
    "    if len(paragraph.findAll(\"a\", {\"href\": \"/wiki/Wikipedia:Citation_needed\"})) >= 1:\n",
    "        filtered_paragraphs.append(paragraph)\n",
    "\n",
    "\n",
    "print(len(paragraphs))\n",
    "print(len(filtered_paragraphs))\n",
    "# print(filtered_paragraphs[1].text.split(\"[citation needed]\")[:-1])"
   ]
  },
  {
   "cell_type": "code",
   "execution_count": 52,
   "metadata": {},
   "outputs": [
    {
     "name": "stdout",
     "output_type": "stream",
     "text": [
      "The first people to settle in Mexico encountered a climate far milder than the current one. In particular, the Valley of Mexico contained several large paleo-lakes (known collectively as Lake Texcoco) surrounded by dense forest. Deer were found in this area, but most fauna were small land animals and fish and other lacustrine animals were found in the lake region.[citation needed][7] Such conditions encouraged the initial pursuit of a hunter-gatherer existence.\n",
      "\n",
      "The Mexica people arrived in the Valley of Mexico in 1248 AD. They had migrated from the deserts north of the Rio Grande[citation needed] over a period traditionally said to have been 100 years. They may have thought of themselves as the heirs to the prestigious civilizations that had preceded them.[citation needed] What the Aztec initially lacked in political power, they made up for with ambition and military skill. In 1325, they established the biggest city in the world at that time, Tenochtitlan.\n",
      "\n",
      "The Spanish had no intention to turn over Tenochtitlan to the Tlaxcalteca. While Tlaxcalteca troops continued to help the Spaniards, and Tlaxcala received better treatment than other indigenous nations, the Spanish eventually disowned the treaty. Forty years after the conquest, the Tlaxcalteca had to pay the same tax as any other indigenous community.[citation needed]\n",
      "\n",
      "During the three centuries of colonial rule, fewer than 700,000 Spaniards, most of them men, settled in Mexico.[citation needed] Europeans, Africans, and indigenous intermixed, creating a mixed-race casta population in a process known as mestizaje. Mestizos, people of mixed European-indigenous ancestry, constitute the majority of Mexico's population.\n",
      "\n"
     ]
    }
   ],
   "source": [
    "for paragraph in filtered_paragraphs:\n",
    "    print(paragraph.text)"
   ]
  },
  {
   "cell_type": "markdown",
   "metadata": {},
   "source": [
    "### Count function must be named get_citations_needed_count\n",
    "\n",
    "    get_citations_needed takes in a url and returns an integer\n",
    "\n",
    "### Report function must be named get_citations_needed_report\n",
    "\n",
    "    get_citations_needed_report takes in a url and returns a string\n",
    "    the string should be formatted with each citation needed on own line, in order found.\n",
    "\n"
   ]
  },
  {
   "cell_type": "code",
   "execution_count": 53,
   "metadata": {},
   "outputs": [],
   "source": [
    "def get_citations_needed(url: str) -> int:\n",
    "    page = requests.get(url)\n",
    "    soup = BeautifulSoup(page.content)\n",
    "    references = soup.findAll(\"a\", {\"href\": \"/wiki/Wikipedia:Citation_needed\"})\n",
    "    print(len(references))"
   ]
  },
  {
   "cell_type": "code",
   "execution_count": 54,
   "metadata": {},
   "outputs": [
    {
     "name": "stdout",
     "output_type": "stream",
     "text": [
      "5\n"
     ]
    }
   ],
   "source": [
    "get_citations_needed(\"https://en.wikipedia.org/wiki/History_of_Mexico\")"
   ]
  },
  {
   "cell_type": "code",
   "execution_count": 17,
   "metadata": {},
   "outputs": [],
   "source": [
    "def get_citations_needed_report(url: str) -> str:\n",
    "    page = requests.get(url)\n",
    "    soup = BeautifulSoup(page.content)\n",
    "    paragraphs = soup.findAll(\"p\")\n",
    "    filtered_paragraphs = []\n",
    "    for paragraph in paragraphs:\n",
    "        if len(paragraph.findAll(\"a\", {\"href\": \"/wiki/Wikipedia:Citation_needed\"})) >= 1:\n",
    "            filtered_paragraphs.append(paragraph)\n",
    "    output = \"\"\n",
    "    for paragraph in filtered_paragraphs:\n",
    "        for text in paragraph.text.split(\"[citation needed]\")[:-1]:\n",
    "            output += text.strip() + \"\\n\\n\"\n",
    "    return output"
   ]
  },
  {
   "cell_type": "code",
   "execution_count": 18,
   "metadata": {},
   "outputs": [
    {
     "name": "stdout",
     "output_type": "stream",
     "text": [
      "The first people to settle in Mexico encountered a climate far milder than the current one. In particular, the Valley of Mexico contained several large paleo-lakes (known collectively as Lake Texcoco) surrounded by dense forest. Deer were found in this area, but most fauna were small land animals and fish and other lacustrine animals were found in the lake region.\n",
      "\n",
      "The Mexica people arrived in the Valley of Mexico in 1248 AD. They had migrated from the deserts north of the Rio Grande\n",
      "\n",
      "over a period traditionally said to have been 100 years. They may have thought of themselves as the heirs to the prestigious civilizations that had preceded them.\n",
      "\n",
      "The Spanish had no intention to turn over Tenochtitlan to the Tlaxcalteca. While Tlaxcalteca troops continued to help the Spaniards, and Tlaxcala received better treatment than other indigenous nations, the Spanish eventually disowned the treaty. Forty years after the conquest, the Tlaxcalteca had to pay the same tax as any other indigenous community.\n",
      "\n",
      "During the three centuries of colonial rule, fewer than 700,000 Spaniards, most of them men, settled in Mexico.\n",
      "\n",
      "\n"
     ]
    }
   ],
   "source": [
    "citations_needed_report = get_citations_needed_report(\"https://en.wikipedia.org/wiki/History_of_Mexico\")\n",
    "print(citations_needed_report)"
   ]
  },
  {
   "cell_type": "code",
   "execution_count": 57,
   "metadata": {},
   "outputs": [],
   "source": [
    "# print(soup.prettify())"
   ]
  },
  {
   "cell_type": "code",
   "execution_count": null,
   "metadata": {},
   "outputs": [],
   "source": []
  },
  {
   "cell_type": "code",
   "execution_count": null,
   "metadata": {},
   "outputs": [],
   "source": []
  }
 ],
 "metadata": {
  "kernelspec": {
   "display_name": "Python 3",
   "language": "python",
   "name": "python3"
  },
  "language_info": {
   "codemirror_mode": {
    "name": "ipython",
    "version": 3
   },
   "file_extension": ".py",
   "mimetype": "text/x-python",
   "name": "python",
   "nbconvert_exporter": "python",
   "pygments_lexer": "ipython3",
   "version": "3.8.2"
  }
 },
 "nbformat": 4,
 "nbformat_minor": 4
}
