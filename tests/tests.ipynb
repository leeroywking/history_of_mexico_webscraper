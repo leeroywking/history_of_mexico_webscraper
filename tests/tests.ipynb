{
 "cells": [
  {
   "cell_type": "code",
   "execution_count": 1,
   "metadata": {},
   "outputs": [],
   "source": [
    "# from history_of_mexico_webscraper.scraper import get_citations_needed, get_citations_needed_report\n",
    "# import history_of_mexico_webscraper\n",
    "# import history_of_mexico_webscraper.scraper\n",
    "\n",
    "import ipytest\n",
    "ipytest.autoconfig()\n",
    "\n",
    "import os\n",
    "import sys\n",
    "module_path = os.path.abspath(os.path.join('..'))\n",
    "if module_path not in sys.path:\n",
    "    sys.path.append(module_path)\n",
    "\n",
    "from history_of_mexico_webscraper.exports import get_citations_needed, get_citations_needed_report\n"
   ]
  },
  {
   "cell_type": "code",
   "execution_count": null,
   "metadata": {},
   "outputs": [],
   "source": []
  },
  {
   "cell_type": "code",
   "execution_count": 3,
   "metadata": {},
   "outputs": [
    {
     "name": "stdout",
     "output_type": "stream",
     "text": [
      "======================================== test session starts ========================================\n",
      "platform linux -- Python 3.8.2, pytest-5.4.3, py-1.9.0, pluggy-0.13.1 -- /home/lee/.cache/pypoetry/virtualenvs/history-of-mexico-webscraper-W-DvJGs8-py3.8/bin/python3\n",
      "cachedir: .pytest_cache\n",
      "rootdir: /home/lee/projects/history-of-mexico-webscraper/tests\n",
      "collecting ... collected 2 items\n",
      "\n",
      "tmpza2x3e72.py::test_get_citations_needed <- <ipython-input-3-a52ae5ac01ac> PASSED            [ 50%]\n",
      "tmpza2x3e72.py::test_get_citations_needed_report <- <ipython-input-3-a52ae5ac01ac> PASSED     [100%]\n",
      "\n",
      "========================================= warnings summary ==========================================\n",
      "tmpza2x3e72.py::test_get_citations_needed_report\n",
      "  /home/lee/projects/history-of-mexico-webscraper/history_of_mexico_webscraper/exports.py:12: GuessedAtParserWarning: No parser was explicitly specified, so I'm using the best available HTML parser for this system (\"html.parser\"). This usually isn't a problem, but if you run this code on another system, or in a different virtual environment, it may use a different parser and behave differently.\n",
      "  \n",
      "  The code that caused this warning is on line 12 of the file /home/lee/projects/history-of-mexico-webscraper/history_of_mexico_webscraper/exports.py. To get rid of this warning, pass the additional argument 'features=\"html.parser\"' to the BeautifulSoup constructor.\n",
      "  \n",
      "    soup = BeautifulSoup(page.content)\n",
      "\n",
      "-- Docs: https://docs.pytest.org/en/latest/warnings.html\n",
      "=================================== 2 passed, 1 warning in 0.83s ====================================\n"
     ]
    }
   ],
   "source": [
    "%%run_pytest[clean] -vvv\n",
    "  \n",
    "def test_get_citations_needed():\n",
    "    assert get_citations_needed(\"https://en.wikipedia.org/wiki/History_of_Mexico\") == 5\n",
    "    \n",
    "    \n",
    "def test_get_citations_needed_report():\n",
    "    assert len(get_citations_needed_report(\"https://en.wikipedia.org/wiki/History_of_Mexico\")) == 1122"
   ]
  },
  {
   "cell_type": "code",
   "execution_count": null,
   "metadata": {},
   "outputs": [],
   "source": []
  },
  {
   "cell_type": "code",
   "execution_count": null,
   "metadata": {},
   "outputs": [],
   "source": []
  },
  {
   "cell_type": "code",
   "execution_count": null,
   "metadata": {},
   "outputs": [],
   "source": []
  }
 ],
 "metadata": {
  "kernelspec": {
   "display_name": "Python 3",
   "language": "python",
   "name": "python3"
  },
  "language_info": {
   "codemirror_mode": {
    "name": "ipython",
    "version": 3
   },
   "file_extension": ".py",
   "mimetype": "text/x-python",
   "name": "python",
   "nbconvert_exporter": "python",
   "pygments_lexer": "ipython3",
   "version": "3.8.2"
  }
 },
 "nbformat": 4,
 "nbformat_minor": 4
}
